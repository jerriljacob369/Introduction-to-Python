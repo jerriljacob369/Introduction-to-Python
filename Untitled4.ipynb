{
  "nbformat": 4,
  "nbformat_minor": 0,
  "metadata": {
    "colab": {
      "provenance": [],
      "authorship_tag": "ABX9TyNvtojIPgm5W90Q4Igu3NZB",
      "include_colab_link": true
    },
    "kernelspec": {
      "name": "python3",
      "display_name": "Python 3"
    },
    "language_info": {
      "name": "python"
    }
  },
  "cells": [
    {
      "cell_type": "markdown",
      "metadata": {
        "id": "view-in-github",
        "colab_type": "text"
      },
      "source": [
        "<a href=\"https://colab.research.google.com/github/jerriljacob369/Introduction-to-Python/blob/main/Untitled4.ipynb\" target=\"_parent\"><img src=\"https://colab.research.google.com/assets/colab-badge.svg\" alt=\"Open In Colab\"/></a>"
      ]
    },
    {
      "cell_type": "code",
      "execution_count": 1,
      "metadata": {
        "id": "NiAH5CP8ooFR",
        "colab": {
          "base_uri": "https://localhost:8080/"
        },
        "outputId": "5190315f-c654-4f0f-b913-8f0dd5ff5f5b"
      },
      "outputs": [
        {
          "output_type": "stream",
          "name": "stdout",
          "text": [
            "passenger's travel sourceBus\n",
            "travel destinationAlappuzha\n",
            "number of passengers10\n",
            "Bus Alappuzha 10\n"
          ]
        }
      ],
      "source": [
        "x=input(\"passenger's travel source\")\n",
        "y=input(\"travel destination\")\n",
        "z=input(\"number of passengers\")\n",
        "print(x,y,z)"
      ]
    },
    {
      "cell_type": "code",
      "source": [
        "x=int(input(\"Total ticket fare \"))\n",
        "z=int(input(\"No of Passengers \"))\n",
        "Totalfare=print(x/z)\n"
      ],
      "metadata": {
        "colab": {
          "base_uri": "https://localhost:8080/"
        },
        "id": "dNqs1p7brMLt",
        "outputId": "3d3954a6-e571-4d60-a5ad-93c41dc8b1a0"
      },
      "execution_count": 3,
      "outputs": [
        {
          "output_type": "stream",
          "name": "stdout",
          "text": [
            "Total ticket fare 500\n",
            "No of Passengers 10\n",
            "50.0\n"
          ]
        }
      ]
    },
    {
      "cell_type": "code",
      "source": [
        "x=input(\"Passengers Name \")\n",
        "y=int(input(\"Ticket fare \"))\n",
        "print(x,y)\n"
      ],
      "metadata": {
        "colab": {
          "base_uri": "https://localhost:8080/"
        },
        "id": "UTYTGQr8rdqX",
        "outputId": "f42623bd-d101-43f5-d82d-566dc28f0c7a"
      },
      "execution_count": 4,
      "outputs": [
        {
          "output_type": "stream",
          "name": "stdout",
          "text": [
            "Passengers Name Jomy\n",
            "Ticket fare 100\n",
            "Jomy 100\n"
          ]
        }
      ]
    },
    {
      "cell_type": "code",
      "source": [
        "x=int(input(\"Total TIcket Fare \"))\n",
        "if x>10000:\n",
        "  print(\"Eligible for discount\")"
      ],
      "metadata": {
        "colab": {
          "base_uri": "https://localhost:8080/"
        },
        "id": "GxtoXcl6rmBH",
        "outputId": "7965019e-98e1-42d0-ac99-c59cd410a6e3"
      },
      "execution_count": 6,
      "outputs": [
        {
          "output_type": "stream",
          "name": "stdout",
          "text": [
            "Total TIcket Fare 20000\n",
            "Eligible for discount\n"
          ]
        }
      ]
    },
    {
      "cell_type": "code",
      "source": [
        "x=int(input(\"Total TIcket Fare \"))\n",
        "if x>15000:\n",
        "  print(\"Eligible for 20% discount\")\n",
        "else:\n",
        "  print(\"Eligible for 10% discount\")\n"
      ],
      "metadata": {
        "colab": {
          "base_uri": "https://localhost:8080/"
        },
        "id": "PVJnD2G0tWdn",
        "outputId": "7c7d2990-3f4f-4adf-cdb9-66ef4209b092"
      },
      "execution_count": 7,
      "outputs": [
        {
          "output_type": "stream",
          "name": "stdout",
          "text": [
            "Total TIcket Fare 20000\n",
            "Eligible for 20% discount\n"
          ]
        }
      ]
    },
    {
      "cell_type": "code",
      "source": [
        "x=int(input(\"Total TIcket Fare \"))\n",
        "if x>15000:\n",
        "  print(\"Eligible for 20% discount\")\n",
        "  print(x*20/100)\n",
        "else:\n",
        "  print(\"Eligible for 10% discount\")\n",
        "  print(x*10/100)\n"
      ],
      "metadata": {
        "colab": {
          "base_uri": "https://localhost:8080/"
        },
        "id": "U3UWHUNgtfSd",
        "outputId": "3ba3a771-6686-4f54-dc8b-e72b3526f707"
      },
      "execution_count": 8,
      "outputs": [
        {
          "output_type": "stream",
          "name": "stdout",
          "text": [
            "Total TIcket Fare 14000\n",
            "Eligible for 10% discount\n",
            "1400.0\n"
          ]
        }
      ]
    },
    {
      "cell_type": "code",
      "source": [
        "x=int(input(\"Enter A Number \"))\n",
        "if x%2==0:\n",
        "  print(\"The Number is Even\")\n",
        "elif x%2!=0:\n",
        "  print(\"The Number is Odd\")\n",
        "else:\n",
        "  print(\"Number is Zero\")"
      ],
      "metadata": {
        "colab": {
          "base_uri": "https://localhost:8080/"
        },
        "id": "wjAdDr9QtlRt",
        "outputId": "f3b1f0f1-9001-4446-fc6a-97909c11de4e"
      },
      "execution_count": 9,
      "outputs": [
        {
          "output_type": "stream",
          "name": "stdout",
          "text": [
            "Enter A Number 5\n",
            "The Number is Odd\n"
          ]
        }
      ]
    },
    {
      "cell_type": "code",
      "source": [
        "x=int(input(\"Enter A Number \"))\n",
        "if x>0:\n",
        "  print(\"Positive\")\n",
        "elif x<0:\n",
        "  print(\"Negative\")\n",
        "else:\n",
        "  print(\"Zero\")"
      ],
      "metadata": {
        "colab": {
          "base_uri": "https://localhost:8080/"
        },
        "id": "swq55n1AxJ6G",
        "outputId": "44076366-4813-46d4-98b4-ff859b5e2560"
      },
      "execution_count": 10,
      "outputs": [
        {
          "output_type": "stream",
          "name": "stdout",
          "text": [
            "Enter A Number 3\n",
            "Positive\n"
          ]
        }
      ]
    },
    {
      "cell_type": "code",
      "source": [
        "x=int(input(\"Age of Passenger \"))\n",
        "if x>17:\n",
        "  print(\"Adult\")\n",
        "elif x>12 and x<17:\n",
        "  print(\"Teenager\")\n",
        "elif x>5 and x<11:\n",
        "  print(\"Kid\")\n",
        "else:\n",
        "  print(\"Infant\")"
      ],
      "metadata": {
        "colab": {
          "base_uri": "https://localhost:8080/"
        },
        "id": "raMxJqxCyedN",
        "outputId": "6e939869-1383-41de-a3e2-6905313b090e"
      },
      "execution_count": 11,
      "outputs": [
        {
          "output_type": "stream",
          "name": "stdout",
          "text": [
            "Age of Passenger 15\n",
            "Teenager\n"
          ]
        }
      ]
    },
    {
      "cell_type": "code",
      "source": [
        "x=input(\"Passengers Initial \")\n",
        "if x==\"A\":\n",
        "  print(\"Vowel\")\n",
        "elif x==\"E\":\n",
        "  print(\"Vowel\")\n",
        "elif x==\"I\":\n",
        "  print(\"Vowel\")\n",
        "elif x==\"O\":\n",
        "  print(\"Vowel\")\n",
        "elif x==\"U\":\n",
        "  print(\"Vowel\")\n",
        "else:\n",
        "  print(\"Not Vowel\")"
      ],
      "metadata": {
        "colab": {
          "base_uri": "https://localhost:8080/"
        },
        "id": "-kMNXTgA0K2g",
        "outputId": "8a2820f6-25a5-480d-b376-4135bcfcdd43"
      },
      "execution_count": 12,
      "outputs": [
        {
          "output_type": "stream",
          "name": "stdout",
          "text": [
            "Passengers Initial B\n",
            "Not Vowel\n"
          ]
        }
      ]
    },
    {
      "cell_type": "code",
      "source": [
        "x=input(\"Enter Your Name \")\n",
        "for a in x:\n",
        "  print(a)"
      ],
      "metadata": {
        "colab": {
          "base_uri": "https://localhost:8080/"
        },
        "id": "xpLFj4wx0ekQ",
        "outputId": "ffbe9396-a5a2-4a0c-adfd-90e5a21ffa03"
      },
      "execution_count": 13,
      "outputs": [
        {
          "output_type": "stream",
          "name": "stdout",
          "text": [
            "Enter Your Name Jomy\n",
            "J\n",
            "o\n",
            "m\n",
            "y\n"
          ]
        }
      ]
    },
    {
      "cell_type": "code",
      "source": [
        "x=0\n",
        "for a in range(1,6):\n",
        "  x=x+a\n",
        "  print(a,x)\n",
        "\n"
      ],
      "metadata": {
        "colab": {
          "base_uri": "https://localhost:8080/"
        },
        "id": "EUsVDgyS2tKo",
        "outputId": "537bf192-abbd-45a8-da90-0b8f7a59ccd6"
      },
      "execution_count": 14,
      "outputs": [
        {
          "output_type": "stream",
          "name": "stdout",
          "text": [
            "1 1\n",
            "2 3\n",
            "3 6\n",
            "4 10\n",
            "5 15\n"
          ]
        }
      ]
    },
    {
      "cell_type": "code",
      "source": [],
      "metadata": {
        "id": "-_73eG5W_GtM"
      },
      "execution_count": null,
      "outputs": []
    }
  ]
}