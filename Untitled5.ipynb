{
  "nbformat": 4,
  "nbformat_minor": 0,
  "metadata": {
    "colab": {
      "provenance": [],
      "authorship_tag": "ABX9TyOnHdxdjgIC8xEvyw/1qI49",
      "include_colab_link": true
    },
    "kernelspec": {
      "name": "python3",
      "display_name": "Python 3"
    },
    "language_info": {
      "name": "python"
    }
  },
  "cells": [
    {
      "cell_type": "markdown",
      "metadata": {
        "id": "view-in-github",
        "colab_type": "text"
      },
      "source": [
        "<a href=\"https://colab.research.google.com/github/jerriljacob369/Introduction-to-Python/blob/main/Untitled5.ipynb\" target=\"_parent\"><img src=\"https://colab.research.google.com/assets/colab-badge.svg\" alt=\"Open In Colab\"/></a>"
      ]
    },
    {
      "cell_type": "code",
      "execution_count": 1,
      "metadata": {
        "colab": {
          "base_uri": "https://localhost:8080/"
        },
        "id": "dVKCV-IVsgQy",
        "outputId": "5cb9bd57-355f-470f-f679-03003563fe46"
      },
      "outputs": [
        {
          "output_type": "stream",
          "name": "stdout",
          "text": [
            "Fifa World Cup 2022\n"
          ]
        }
      ],
      "source": [
        "\n",
        "def call():\n",
        "  print(\"Fifa World Cup 2022\")\n",
        "call()"
      ]
    },
    {
      "cell_type": "code",
      "source": [
        "def call(x,y,z):\n",
        "  print(x,y,z)\n",
        "call(\"Jerril\",\"Jacob\",\"Michael\")"
      ],
      "metadata": {
        "colab": {
          "base_uri": "https://localhost:8080/"
        },
        "id": "8lOjP0-3vfxN",
        "outputId": "1fad5934-305b-4573-8a77-ea32075a3f67"
      },
      "execution_count": 3,
      "outputs": [
        {
          "output_type": "stream",
          "name": "stdout",
          "text": [
            "Jerril Jacob Michael\n"
          ]
        }
      ]
    },
    {
      "cell_type": "code",
      "source": [
        "def call(firstname,secondname,lastname):\n",
        "  print(lastname,firstname,secondname)\n",
        "call(\"Jerril\",\"Jacob\",\"Michael\")"
      ],
      "metadata": {
        "colab": {
          "base_uri": "https://localhost:8080/"
        },
        "id": "-G6xvFFLwjL2",
        "outputId": "97b013d3-86fa-4928-aacf-402cad6e7216"
      },
      "execution_count": 4,
      "outputs": [
        {
          "output_type": "stream",
          "name": "stdout",
          "text": [
            "Michael Jerril Jacob\n"
          ]
        }
      ]
    },
    {
      "cell_type": "code",
      "source": [
        "def call(*x):\n",
        "  print(\"My Second Favourite Football Player Is\",x[1])\n",
        "call(\"Messi\",\"Kevin De Bruyne\",\"Neymar\") "
      ],
      "metadata": {
        "colab": {
          "base_uri": "https://localhost:8080/"
        },
        "id": "Y8ZKUVfHxm_Z",
        "outputId": "8281dcbc-1d05-4bdd-937a-d57fbb853d5f"
      },
      "execution_count": 7,
      "outputs": [
        {
          "output_type": "stream",
          "name": "stdout",
          "text": [
            "My Second Favourite Football Player Is Kevin De Bruyne\n"
          ]
        }
      ]
    },
    {
      "cell_type": "code",
      "source": [
        "def call(country = \"MEXICO\"):\n",
        "  print(\"I am from \" + country)\n",
        " "
      ],
      "metadata": {
        "id": "PDU9GR44ywuB"
      },
      "execution_count": 12,
      "outputs": []
    },
    {
      "cell_type": "code",
      "source": [
        "call(\"SWEDEN\")\n",
        "call(\"INDIA\")\n",
        "call()\n",
        "call(\"BRAZIL\")"
      ],
      "metadata": {
        "colab": {
          "base_uri": "https://localhost:8080/"
        },
        "id": "Mk9RQ03w2jeD",
        "outputId": "fe643dd9-5c8b-4954-abc4-6a71fee56554"
      },
      "execution_count": 13,
      "outputs": [
        {
          "output_type": "stream",
          "name": "stdout",
          "text": [
            "I am from SWEDEN\n",
            "I am from INDIA\n",
            "I am from MEXICO\n",
            "I am from BRAZIL\n"
          ]
        }
      ]
    },
    {
      "cell_type": "code",
      "source": [
        "def call(country=\"Argentina\"):\n",
        "  print(\"my favourite team is \" + country )\n",
        "call()"
      ],
      "metadata": {
        "colab": {
          "base_uri": "https://localhost:8080/"
        },
        "id": "9YkTY9tu241Y",
        "outputId": "cb7f896f-8618-424e-8e8b-69b035ef6b4b"
      },
      "execution_count": 15,
      "outputs": [
        {
          "output_type": "stream",
          "name": "stdout",
          "text": [
            "my favourite team is Argentina\n"
          ]
        }
      ]
    },
    {
      "cell_type": "code",
      "source": [],
      "metadata": {
        "id": "-MBFFvm34FBo"
      },
      "execution_count": null,
      "outputs": []
    }
  ]
}