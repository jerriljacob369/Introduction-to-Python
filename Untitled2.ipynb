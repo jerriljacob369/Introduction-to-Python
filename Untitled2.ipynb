{
  "nbformat": 4,
  "nbformat_minor": 0,
  "metadata": {
    "colab": {
      "provenance": [],
      "authorship_tag": "ABX9TyOeolAInNSR1S/L1U09l2Aq",
      "include_colab_link": true
    },
    "kernelspec": {
      "name": "python3",
      "display_name": "Python 3"
    },
    "language_info": {
      "name": "python"
    }
  },
  "cells": [
    {
      "cell_type": "markdown",
      "metadata": {
        "id": "view-in-github",
        "colab_type": "text"
      },
      "source": [
        "<a href=\"https://colab.research.google.com/github/jerriljacob369/Introduction-to-Python/blob/main/Untitled2.ipynb\" target=\"_parent\"><img src=\"https://colab.research.google.com/assets/colab-badge.svg\" alt=\"Open In Colab\"/></a>"
      ]
    },
    {
      "cell_type": "code",
      "execution_count": 1,
      "metadata": {
        "colab": {
          "base_uri": "https://localhost:8080/"
        },
        "id": "gl58rJmQhMwg",
        "outputId": "58849ac1-9949-464b-f271-a136e44fe555"
      },
      "outputs": [
        {
          "output_type": "stream",
          "name": "stdout",
          "text": [
            "Enter A Number 5\n",
            "5\n"
          ]
        }
      ],
      "source": [
        "x=(int(input(\"Enter A Number \")))\n",
        "if x<0:\n",
        "  print(x*-1)\n",
        "elif x>0:\n",
        "  print(x*1)"
      ]
    },
    {
      "cell_type": "code",
      "source": [
        "num=int(input())\n",
        "if(num>0):\n",
        "  print(\"absolute value of\",num,\"is\",num)\n",
        "else:\n",
        "  num=num*(-1)\n",
        "  print(\"absolute value of\",num,\"is\",num)"
      ],
      "metadata": {
        "colab": {
          "base_uri": "https://localhost:8080/"
        },
        "id": "8Ppqfo9qjvBz",
        "outputId": "e2ddcc9a-380c-4d76-ab32-deee1d37a983"
      },
      "execution_count": 2,
      "outputs": [
        {
          "output_type": "stream",
          "name": "stdout",
          "text": [
            "-20\n",
            "absolute value of 20 is 20\n"
          ]
        }
      ]
    },
    {
      "cell_type": "code",
      "source": [
        "marks=int(input(\"Enter marks \"))\n",
        "if marks <25:\n",
        "  print(\"f\")\n",
        "elif marks>25 and marks<40:\n",
        "  print(\"e\")\n",
        "elif marks>40 and marks<50:\n",
        "  print(\"d\")\n",
        "elif marks>50 and marks<60:\n",
        "  print(\"c\")\n",
        "elif marks>60 and marks<80:\n",
        "  print(\"b\")\n",
        "else:\n",
        "  print(\"a\")"
      ],
      "metadata": {
        "colab": {
          "base_uri": "https://localhost:8080/"
        },
        "id": "diNrBhSglC80",
        "outputId": "dd575e02-382d-4fc8-b21e-bc465d561ba5"
      },
      "execution_count": 3,
      "outputs": [
        {
          "output_type": "stream",
          "name": "stdout",
          "text": [
            "Enter marks 70\n",
            "b\n"
          ]
        }
      ]
    },
    {
      "cell_type": "code",
      "source": [
        "x=int(input(\"No of classes held\"))\n",
        "y=int(input(\"No of classes attended\"))\n",
        "if y/x*100<75:\n",
        "  print(\"Not eligible for exam\")\n",
        "else :\n",
        "  print(\"Eligible for exam\")"
      ],
      "metadata": {
        "colab": {
          "base_uri": "https://localhost:8080/"
        },
        "id": "QQISdtw5o4fU",
        "outputId": "97370df0-b3ab-4b8c-a0b4-275e9e3cf48a"
      },
      "execution_count": 5,
      "outputs": [
        {
          "output_type": "stream",
          "name": "stdout",
          "text": [
            "No of classes held100\n",
            "No of classes attended80\n",
            "Eligible for exam\n"
          ]
        }
      ]
    },
    {
      "cell_type": "code",
      "source": [],
      "metadata": {
        "id": "mM39U6fVprSD"
      },
      "execution_count": null,
      "outputs": []
    }
  ]
}