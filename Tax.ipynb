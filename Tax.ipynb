{
  "nbformat": 4,
  "nbformat_minor": 0,
  "metadata": {
    "colab": {
      "provenance": [],
      "authorship_tag": "ABX9TyPadQi+RCsi9SzBsPe3XU9e",
      "include_colab_link": true
    },
    "kernelspec": {
      "name": "python3",
      "display_name": "Python 3"
    },
    "language_info": {
      "name": "python"
    }
  },
  "cells": [
    {
      "cell_type": "markdown",
      "metadata": {
        "id": "view-in-github",
        "colab_type": "text"
      },
      "source": [
        "<a href=\"https://colab.research.google.com/github/jerriljacob369/Introduction-to-Python/blob/main/Tax.ipynb\" target=\"_parent\"><img src=\"https://colab.research.google.com/assets/colab-badge.svg\" alt=\"Open In Colab\"/></a>"
      ]
    },
    {
      "cell_type": "code",
      "execution_count": 1,
      "metadata": {
        "colab": {
          "base_uri": "https://localhost:8080/"
        },
        "id": "2es_hUDSeLc4",
        "outputId": "61692d8c-9972-40e0-e122-3f8937e1a82c"
      },
      "outputs": [
        {
          "name": "stdout",
          "output_type": "stream",
          "text": [
            "50\n"
          ]
        }
      ],
      "source": [
        "mark=int(input())\n"
      ]
    },
    {
      "cell_type": "code",
      "source": [
        "mark=int(input())\n",
        "if mark >50 :\n",
        " print(\"You are passed\")\n",
        "if mark <50 :\n",
        " print(\"You are failed\")"
      ],
      "metadata": {
        "colab": {
          "base_uri": "https://localhost:8080/"
        },
        "id": "d_OfccuuhuOz",
        "outputId": "a59e5588-8a99-42dd-f9da-1c53f7220487"
      },
      "execution_count": 2,
      "outputs": [
        {
          "output_type": "stream",
          "name": "stdout",
          "text": [
            "69\n",
            "You are passed\n"
          ]
        }
      ]
    },
    {
      "cell_type": "code",
      "source": [
        "mark=int(input())\n",
        "if mark >50 :\n",
        "  print(\"You are passed\")\n",
        "if mark ==50 :\n",
        "  print(\"You are just passed\")\n",
        " "
      ],
      "metadata": {
        "colab": {
          "base_uri": "https://localhost:8080/"
        },
        "id": "dufKT9UrifYw",
        "outputId": "9afd07a2-c4fa-498d-ce26-0f2836889ed6"
      },
      "execution_count": 3,
      "outputs": [
        {
          "output_type": "stream",
          "name": "stdout",
          "text": [
            "50\n",
            "You are just passed\n"
          ]
        }
      ]
    },
    {
      "cell_type": "code",
      "source": [
        "salary=int(input())\n",
        "if salary >250000 :\n",
        "  print(\"Salary taxable\")\n",
        "if salary <250000 :\n",
        "  print(\"Salary non taxable\")"
      ],
      "metadata": {
        "colab": {
          "base_uri": "https://localhost:8080/"
        },
        "id": "8sn-qaDujgGm",
        "outputId": "9ab41097-9bab-4596-ad6f-bea017205eac"
      },
      "execution_count": 4,
      "outputs": [
        {
          "output_type": "stream",
          "name": "stdout",
          "text": [
            "300000\n",
            "Salary taxable\n"
          ]
        }
      ]
    },
    {
      "cell_type": "code",
      "source": [
        "salary=int(input())\n",
        "if salary >250000 :\n",
        "  print(\"Salary taxable\")\n",
        "  print(salary*10/100)\n",
        "if salary <250000 :\n",
        "  print(\"Salary non taxable\")"
      ],
      "metadata": {
        "colab": {
          "base_uri": "https://localhost:8080/"
        },
        "id": "9KnD4NF4lXpM",
        "outputId": "962c9c8b-f895-4e6f-ca8b-f5596b5c5144"
      },
      "execution_count": 5,
      "outputs": [
        {
          "output_type": "stream",
          "name": "stdout",
          "text": [
            "300000\n",
            "Salary taxable\n",
            "30000.0\n"
          ]
        }
      ]
    },
    {
      "cell_type": "code",
      "source": [
        "salary=int(input())\n",
        "if salary >250000 :\n",
        "  print(\"Salary taxable\")\n",
        "  print((salary-250000)*10/100)\n",
        "if salary <250000 :\n",
        "  print(\"Salary non taxable\")"
      ],
      "metadata": {
        "colab": {
          "base_uri": "https://localhost:8080/"
        },
        "id": "No3qXG-lm4qb",
        "outputId": "a548eab9-7439-4314-e11a-640d7b10baf5"
      },
      "execution_count": 6,
      "outputs": [
        {
          "output_type": "stream",
          "name": "stdout",
          "text": [
            "500000\n",
            "Salary taxable\n",
            "25000.0\n"
          ]
        }
      ]
    },
    {
      "cell_type": "code",
      "source": [
        "salary=int(input())\n",
        "if salary >250000 and salary <500000 :\n",
        "  print(\"Salary taxable\")\n",
        "  print(salary*10/100)\n",
        "if salary >=500000 :\n",
        "  print(\"Salary taxable\")\n",
        "  print(salary*20/100)\n",
        "else :\n",
        "  print(\"Salary non taxable\")"
      ],
      "metadata": {
        "colab": {
          "base_uri": "https://localhost:8080/"
        },
        "id": "CPAZ5lKfpEak",
        "outputId": "f6334d81-1d15-41cf-d7c7-88b6f4514a68"
      },
      "execution_count": 7,
      "outputs": [
        {
          "output_type": "stream",
          "name": "stdout",
          "text": [
            "600000\n",
            "Salary taxable\n",
            "120000.0\n"
          ]
        }
      ]
    },
    {
      "cell_type": "code",
      "source": [
        "salary=int(input())\n",
        "if salary >250000 and salary <500000 :\n",
        "  print(\"Salary taxable\")\n",
        "  print((salary-250000)*10/100)\n",
        "if salary >=500000 :\n",
        "  print(\"Salary taxable\")\n",
        "  print((salary-250000)*20/100)\n",
        "else :\n",
        "  print(\"Salary non taxable\")"
      ],
      "metadata": {
        "colab": {
          "base_uri": "https://localhost:8080/"
        },
        "id": "s1UhG9XPsJKM",
        "outputId": "01bfd3c9-0bd8-4283-bbd9-e1db21318dae"
      },
      "execution_count": 8,
      "outputs": [
        {
          "output_type": "stream",
          "name": "stdout",
          "text": [
            "600000\n",
            "Salary taxable\n",
            "70000.0\n"
          ]
        }
      ]
    },
    {
      "cell_type": "code",
      "source": [
        "salary=int(input())\n",
        "if"
      ],
      "metadata": {
        "colab": {
          "base_uri": "https://localhost:8080/",
          "height": 135
        },
        "id": "0TWCmOI9uWUG",
        "outputId": "b040fca0-cf79-4905-9264-dcab2e079a86"
      },
      "execution_count": 9,
      "outputs": [
        {
          "output_type": "error",
          "ename": "SyntaxError",
          "evalue": "ignored",
          "traceback": [
            "\u001b[0;36m  File \u001b[0;32m\"<ipython-input-9-b9b8cae6d0b8>\"\u001b[0;36m, line \u001b[0;32m2\u001b[0m\n\u001b[0;31m    if\u001b[0m\n\u001b[0m      ^\u001b[0m\n\u001b[0;31mSyntaxError\u001b[0m\u001b[0;31m:\u001b[0m invalid syntax\n"
          ]
        }
      ]
    }
  ]
}