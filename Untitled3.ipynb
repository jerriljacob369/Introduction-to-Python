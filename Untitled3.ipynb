{
  "nbformat": 4,
  "nbformat_minor": 0,
  "metadata": {
    "colab": {
      "provenance": [],
      "authorship_tag": "ABX9TyPlKyKt/ANQ+wfVRwTvj0/F",
      "include_colab_link": true
    },
    "kernelspec": {
      "name": "python3",
      "display_name": "Python 3"
    },
    "language_info": {
      "name": "python"
    }
  },
  "cells": [
    {
      "cell_type": "markdown",
      "metadata": {
        "id": "view-in-github",
        "colab_type": "text"
      },
      "source": [
        "<a href=\"https://colab.research.google.com/github/jerriljacob369/Introduction-to-Python/blob/main/Untitled3.ipynb\" target=\"_parent\"><img src=\"https://colab.research.google.com/assets/colab-badge.svg\" alt=\"Open In Colab\"/></a>"
      ]
    },
    {
      "cell_type": "code",
      "execution_count": 1,
      "metadata": {
        "colab": {
          "base_uri": "https://localhost:8080/"
        },
        "id": "TlVLo24Kq-pF",
        "outputId": "ea0b08f3-ed65-418e-87d4-69b813424762"
      },
      "outputs": [
        {
          "output_type": "stream",
          "name": "stdout",
          "text": [
            "Enter the number to display the corresponding multiplication table5\n",
            "5\n",
            "10\n",
            "15\n",
            "20\n",
            "25\n",
            "30\n",
            "35\n",
            "40\n",
            "45\n",
            "50\n"
          ]
        }
      ],
      "source": [
        "num=int(input(\"Enter the number to display the corresponding multiplication table\"))\n",
        "for i in range(1,11):\n",
        "  print(i*num)"
      ]
    },
    {
      "cell_type": "code",
      "source": [
        "n=input(\"Enter a number\")\n",
        "len(n)"
      ],
      "metadata": {
        "colab": {
          "base_uri": "https://localhost:8080/"
        },
        "id": "-YctdjkkuHUn",
        "outputId": "f8d3bad5-bdba-4d85-d1c1-4c057e04d35c"
      },
      "execution_count": 6,
      "outputs": [
        {
          "name": "stdout",
          "output_type": "stream",
          "text": [
            "Enter a number35544\n"
          ]
        },
        {
          "output_type": "execute_result",
          "data": {
            "text/plain": [
              "5"
            ]
          },
          "metadata": {},
          "execution_count": 6
        }
      ]
    },
    {
      "cell_type": "code",
      "source": [
        "num=int(input())\n",
        "i=1\n",
        "while(i<=10):\n",
        "  print(i*num)\n",
        "  i=i+1"
      ],
      "metadata": {
        "colab": {
          "base_uri": "https://localhost:8080/"
        },
        "id": "wYhOqsfdxBKo",
        "outputId": "16bc3c2d-82ac-466f-af73-1358b8f1ae4a"
      },
      "execution_count": 7,
      "outputs": [
        {
          "output_type": "stream",
          "name": "stdout",
          "text": [
            "5\n",
            "5\n",
            "10\n",
            "15\n",
            "20\n",
            "25\n",
            "30\n",
            "35\n",
            "40\n",
            "45\n",
            "50\n"
          ]
        }
      ]
    },
    {
      "cell_type": "code",
      "source": [
        "num=input(\"Enter the number\")\n",
        "d=0\n",
        "for i in num:\n",
        "  #print(i)\n",
        "  d=d+1\n",
        "print(d)\n"
      ],
      "metadata": {
        "colab": {
          "base_uri": "https://localhost:8080/"
        },
        "id": "zvYPHk9fyMMZ",
        "outputId": "4a1baaac-8205-42d7-bb00-aebe1f58df03"
      },
      "execution_count": 9,
      "outputs": [
        {
          "output_type": "stream",
          "name": "stdout",
          "text": [
            "Enter the number1243\n",
            "4\n"
          ]
        }
      ]
    },
    {
      "cell_type": "code",
      "source": [
        "x=input('Enter a string ')\n",
        "a=\"\"\n",
        "for i in x:\n",
        "  a=i+a\n",
        "print(a)\n",
        "if x==a:\n",
        "  print('TRUE')\n",
        "else:\n",
        "  print('FALSE ')"
      ],
      "metadata": {
        "colab": {
          "base_uri": "https://localhost:8080/"
        },
        "id": "VVlHM_0Q3r_Z",
        "outputId": "1815858e-2c39-42bd-e9fa-f8a33be54252"
      },
      "execution_count": 10,
      "outputs": [
        {
          "output_type": "stream",
          "name": "stdout",
          "text": [
            "Enter a string hujmu\n",
            "umjuh\n",
            "FALSE \n"
          ]
        }
      ]
    },
    {
      "cell_type": "code",
      "source": [
        "x=input('Enter a string ')\n",
        "a=\"\"\n",
        "for i in x:\n",
        "  a=i+a\n",
        "print(a)\n",
        "if x==a:\n",
        "  print('TRUE')\n",
        "else:\n",
        "  print('FALSE ')"
      ],
      "metadata": {
        "colab": {
          "base_uri": "https://localhost:8080/"
        },
        "id": "5G5waoYK8gVD",
        "outputId": "dfd77330-f696-4679-d0cf-c76ace1eca8a"
      },
      "execution_count": 11,
      "outputs": [
        {
          "output_type": "stream",
          "name": "stdout",
          "text": [
            "Enter a string malayalam\n",
            "malayalam\n",
            "TRUE\n"
          ]
        }
      ]
    },
    {
      "cell_type": "code",
      "source": [],
      "metadata": {
        "id": "sA3Pzjq5CEdA"
      },
      "execution_count": null,
      "outputs": []
    }
  ]
}