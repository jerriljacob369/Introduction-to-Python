{
  "nbformat": 4,
  "nbformat_minor": 0,
  "metadata": {
    "colab": {
      "provenance": [],
      "authorship_tag": "ABX9TyPgfbeiqS0pgWVWx8U9p4uf",
      "include_colab_link": true
    },
    "kernelspec": {
      "name": "python3",
      "display_name": "Python 3"
    },
    "language_info": {
      "name": "python"
    }
  },
  "cells": [
    {
      "cell_type": "markdown",
      "metadata": {
        "id": "view-in-github",
        "colab_type": "text"
      },
      "source": [
        "<a href=\"https://colab.research.google.com/github/jerriljacob369/Introduction-to-Python/blob/main/HRA.ipynb\" target=\"_parent\"><img src=\"https://colab.research.google.com/assets/colab-badge.svg\" alt=\"Open In Colab\"/></a>"
      ]
    },
    {
      "cell_type": "code",
      "execution_count": 1,
      "metadata": {
        "colab": {
          "base_uri": "https://localhost:8080/"
        },
        "id": "BB8jgUpbpSNX",
        "outputId": "dff7cea6-6dcd-4ae7-9ae9-8dcbdc8ebc42"
      },
      "outputs": [
        {
          "output_type": "stream",
          "name": "stdout",
          "text": [
            "20000000\n",
            "Taxable\n",
            "3200000.0\n"
          ]
        }
      ],
      "source": [
        "salary=int(input())\n",
        "if salary >=250000 and salary <500000 :\n",
        " print(\"Taxable\")\n",
        " print(salary*10/100)\n",
        "if salary >=500000 and salary <750000 :\n",
        "  print(\"Taxable\")\n",
        "  print(salary*20/100)\n",
        "if salary >=750000 and salary <10000000 :\n",
        "  print(\"Taxable\")\n",
        "  print(salary*30/100)\n",
        "if salary >=10000000 :\n",
        "  print(\"Taxable\")\n",
        "  print((salary-10000000)*30/100+(salary-10000000)*2/100)\n",
        "  "
      ]
    },
    {
      "cell_type": "code",
      "source": [
        "s=int(input('Enter Salary:'))\n",
        "if s>=250000 and s<500000:\n",
        "  print('YOU ARE TAXABLE')\n",
        "  x=s-250000\n",
        "  t=x*0.10\n",
        "  print('TAX:',t)\n",
        "elif s>=500000 and s<750000:\n",
        "  print('YOU ARE TAXABLE')\n",
        "  x=250000*0.10\n",
        "  y=(s-500000)*0.20\n",
        "  print('TAX:',x+y)\n",
        "elif s>=750000 and s<10000000:\n",
        "  print('YOU ARE TAXABLE')\n",
        "  x=250000*0.10\n",
        "  y=250000*0.20\n",
        "  z=(s-750000)*0.30\n",
        "  print('TAX:',x+y+z)\n",
        "elif s>=10000000:\n",
        "  print('YOU ARE TAXABLE')\n",
        "  x=250000*0.10\n",
        "  y=250000*0.20\n",
        "  z=(s-750000)*0.30\n",
        "  a=(s-10000000)*0.02\n",
        "  print('TAX:',x+y+z+a)"
      ],
      "metadata": {
        "id": "vKKxdAoCt8T6",
        "colab": {
          "base_uri": "https://localhost:8080/"
        },
        "outputId": "42ef4433-1257-463b-f50a-2769b281afef"
      },
      "execution_count": 2,
      "outputs": [
        {
          "output_type": "stream",
          "name": "stdout",
          "text": [
            "Enter Salary:20000000\n",
            "YOU ARE TAXABLE\n",
            "TAX: 6050000.0\n"
          ]
        }
      ]
    },
    {
      "cell_type": "code",
      "source": [
        "s=int(input('Enter Salary:'))\n",
        "hra=int(input('Enter HRA:'))\n",
        "if hra>s*0.6 :\n",
        "\n",
        "  if s>=250000 and s<500000:\n",
        "   print('YOU ARE TAXABLE')\n",
        "   x=s-250000\n",
        "   t=x*0.10\n",
        "   print('TAX:',t)\n",
        "  elif s>=500000 and s<750000:\n",
        "   print('YOU ARE TAXABLE')\n",
        "   x=250000*0.10\n",
        "   y=(s-500000)*0.20\n",
        "   print('TAX:',x+y)\n",
        "  elif s>=750000 and s<10000000:\n",
        "   print('YOU ARE TAXABLE')\n",
        "   x=250000*0.10\n",
        "   y=250000*0.20 \n",
        "   z=(s-750000)*0.30\n",
        "   print('TAX:',x+y+z)\n",
        "  elif s>=10000000:\n",
        "   print('YOU ARE TAXABLE')\n",
        "   x=250000*0.10\n",
        "   y=250000*0.20\n",
        "   z=(s-750000)*0.30\n",
        "   a=(s-10000000)*0.02\n",
        "   print('TAX:',x+y+z+a)\n",
        "  elif hra <s*0.6:\n",
        "    HRA=s*0.05\n",
        "    print(HRA) "
      ],
      "metadata": {
        "colab": {
          "base_uri": "https://localhost:8080/"
        },
        "id": "lLlHNESp39tS",
        "outputId": "da1d3437-7ec7-4c22-a8c2-bc044f437583"
      },
      "execution_count": 3,
      "outputs": [
        {
          "output_type": "stream",
          "name": "stdout",
          "text": [
            "Enter Salary:20000000\n",
            "Enter HRA:15000000\n",
            "YOU ARE TAXABLE\n",
            "TAX: 6050000.0\n"
          ]
        }
      ]
    },
    {
      "cell_type": "code",
      "source": [],
      "metadata": {
        "id": "HNYKCqZg81PD"
      },
      "execution_count": 3,
      "outputs": []
    }
  ]
}