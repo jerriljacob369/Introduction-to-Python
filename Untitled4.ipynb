{
  "nbformat": 4,
  "nbformat_minor": 0,
  "metadata": {
    "colab": {
      "provenance": [],
      "authorship_tag": "ABX9TyPns2n2QB4wEBP1iQGruSFC",
      "include_colab_link": true
    },
    "kernelspec": {
      "name": "python3",
      "display_name": "Python 3"
    },
    "language_info": {
      "name": "python"
    }
  },
  "cells": [
    {
      "cell_type": "markdown",
      "metadata": {
        "id": "view-in-github",
        "colab_type": "text"
      },
      "source": [
        "<a href=\"https://colab.research.google.com/github/jerriljacob369/Introduction-to-Python/blob/main/Untitled4.ipynb\" target=\"_parent\"><img src=\"https://colab.research.google.com/assets/colab-badge.svg\" alt=\"Open In Colab\"/></a>"
      ]
    },
    {
      "cell_type": "code",
      "execution_count": 2,
      "metadata": {
        "id": "iIEOcdcB1Ka7"
      },
      "outputs": [],
      "source": [
        "a=10298"
      ]
    },
    {
      "cell_type": "code",
      "source": [
        "type(a)"
      ],
      "metadata": {
        "colab": {
          "base_uri": "https://localhost:8080/"
        },
        "id": "mFy-5Z6b3kaF",
        "outputId": "45b0b5e6-8f5d-4bf2-e298-b6c169fb122f"
      },
      "execution_count": 3,
      "outputs": [
        {
          "output_type": "execute_result",
          "data": {
            "text/plain": [
              "int"
            ]
          },
          "metadata": {},
          "execution_count": 3
        }
      ]
    },
    {
      "cell_type": "code",
      "source": [
        "type(15.5+10)"
      ],
      "metadata": {
        "colab": {
          "base_uri": "https://localhost:8080/"
        },
        "id": "CfFJEV2B3slk",
        "outputId": "d4e59546-a6a0-4e4b-e004-31a27c7813fc"
      },
      "execution_count": 4,
      "outputs": [
        {
          "output_type": "execute_result",
          "data": {
            "text/plain": [
              "float"
            ]
          },
          "metadata": {},
          "execution_count": 4
        }
      ]
    },
    {
      "cell_type": "code",
      "source": [
        "c= 10+ 6j"
      ],
      "metadata": {
        "id": "nhWZZB8S34B8"
      },
      "execution_count": 6,
      "outputs": []
    },
    {
      "cell_type": "code",
      "source": [
        "type(c)"
      ],
      "metadata": {
        "colab": {
          "base_uri": "https://localhost:8080/"
        },
        "id": "y_RQ1Geo4MiM",
        "outputId": "1c5ac917-7133-43e0-953e-7db48a632954"
      },
      "execution_count": 7,
      "outputs": [
        {
          "output_type": "execute_result",
          "data": {
            "text/plain": [
              "complex"
            ]
          },
          "metadata": {},
          "execution_count": 7
        }
      ]
    },
    {
      "cell_type": "code",
      "source": [
        "d=\"jomymon\""
      ],
      "metadata": {
        "id": "Kr_eEe_54U6E"
      },
      "execution_count": 8,
      "outputs": []
    },
    {
      "cell_type": "code",
      "source": [
        "type(d)"
      ],
      "metadata": {
        "colab": {
          "base_uri": "https://localhost:8080/"
        },
        "id": "Z5jBHS6B4mCH",
        "outputId": "572e70fa-6dcb-478f-ac8e-b2c6e14cd48e"
      },
      "execution_count": 9,
      "outputs": [
        {
          "output_type": "execute_result",
          "data": {
            "text/plain": [
              "str"
            ]
          },
          "metadata": {},
          "execution_count": 9
        }
      ]
    },
    {
      "cell_type": "code",
      "source": [
        "suiii=['x','y','x']"
      ],
      "metadata": {
        "id": "gE_WQdaC4nm3"
      },
      "execution_count": 10,
      "outputs": []
    },
    {
      "cell_type": "code",
      "source": [
        "type(suiii)"
      ],
      "metadata": {
        "colab": {
          "base_uri": "https://localhost:8080/"
        },
        "id": "bDj7Ul2W6OEJ",
        "outputId": "c1567241-f5c0-4731-b952-f4dc408ed32e"
      },
      "execution_count": 11,
      "outputs": [
        {
          "output_type": "execute_result",
          "data": {
            "text/plain": [
              "list"
            ]
          },
          "metadata": {},
          "execution_count": 11
        }
      ]
    },
    {
      "cell_type": "code",
      "source": [
        "suiii=['x','y','x']\n",
        "suiii[0]"
      ],
      "metadata": {
        "colab": {
          "base_uri": "https://localhost:8080/",
          "height": 36
        },
        "id": "wVn6cBFC6P0Q",
        "outputId": "7b73d440-4dfb-49e1-b1d2-ca96023f39b7"
      },
      "execution_count": 12,
      "outputs": [
        {
          "output_type": "execute_result",
          "data": {
            "text/plain": [
              "'x'"
            ],
            "application/vnd.google.colaboratory.intrinsic+json": {
              "type": "string"
            }
          },
          "metadata": {},
          "execution_count": 12
        }
      ]
    },
    {
      "cell_type": "code",
      "source": [
        "cristaronaldo=['themma','themma','themmadi','katte']\n",
        "hehehesuiiii=cristaronaldo+suiii\n",
        "print(hehehesuiiii)"
      ],
      "metadata": {
        "colab": {
          "base_uri": "https://localhost:8080/"
        },
        "id": "XSTbOMZS7Z0w",
        "outputId": "df014018-89b2-4728-a41a-f85f30fc16ea"
      },
      "execution_count": 13,
      "outputs": [
        {
          "output_type": "stream",
          "name": "stdout",
          "text": [
            "['themma', 'themma', 'themmadi', 'katte', 'x', 'y', 'x']\n"
          ]
        }
      ]
    },
    {
      "cell_type": "code",
      "source": [
        "hehehesuiiii.pop"
      ],
      "metadata": {
        "colab": {
          "base_uri": "https://localhost:8080/"
        },
        "id": "1J4T11WE8ggu",
        "outputId": "a8b6b239-5a2b-4011-fe7d-93f5e6e90bff"
      },
      "execution_count": 16,
      "outputs": [
        {
          "output_type": "execute_result",
          "data": {
            "text/plain": [
              "<function list.pop(index=-1, /)>"
            ]
          },
          "metadata": {},
          "execution_count": 16
        }
      ]
    },
    {
      "cell_type": "code",
      "source": [
        "names=['Ram','Shyam','Sita','Tina','Shiva']\n",
        "grade=['abc','efg','hij','klm','nop']\n",
        "print(grade+names)\n",
        "grade.pop()\n",
        "print(grade)\n",
        "grade.pop(1)\n"
      ],
      "metadata": {
        "colab": {
          "base_uri": "https://localhost:8080/",
          "height": 72
        },
        "id": "QUcq5zOG83NT",
        "outputId": "2c326e43-64d8-4c8f-c8a7-11a6ab157816"
      },
      "execution_count": 19,
      "outputs": [
        {
          "output_type": "stream",
          "name": "stdout",
          "text": [
            "['abc', 'efg', 'hij', 'klm', 'nop', 'Ram', 'Shyam', 'Sita', 'Tina', 'Shiva']\n",
            "['abc', 'efg', 'hij', 'klm']\n"
          ]
        },
        {
          "output_type": "execute_result",
          "data": {
            "text/plain": [
              "'efg'"
            ],
            "application/vnd.google.colaboratory.intrinsic+json": {
              "type": "string"
            }
          },
          "metadata": {},
          "execution_count": 19
        }
      ]
    },
    {
      "cell_type": "code",
      "source": [
        "letter=['M','S','A','Z','G']\n",
        "letter.append('O')\n",
        "print(letter)\n",
        "letter.sort()\n",
        "print(letter)\n",
        "letter.reverse()\n",
        "print(letter)"
      ],
      "metadata": {
        "colab": {
          "base_uri": "https://localhost:8080/"
        },
        "id": "30sDQKT3AqNS",
        "outputId": "14b9a381-b56a-4254-947e-5febb43fa8b8"
      },
      "execution_count": 18,
      "outputs": [
        {
          "output_type": "stream",
          "name": "stdout",
          "text": [
            "['M', 'S', 'A', 'Z', 'G', 'O']\n",
            "['A', 'G', 'M', 'O', 'S', 'Z']\n",
            "['Z', 'S', 'O', 'M', 'G', 'A']\n"
          ]
        }
      ]
    },
    {
      "cell_type": "code",
      "source": [
        "h={1,2,3,6,7}\n",
        "type(h)"
      ],
      "metadata": {
        "colab": {
          "base_uri": "https://localhost:8080/"
        },
        "id": "Wfk51lScAtfb",
        "outputId": "0e98992b-2dd1-410d-d14f-b3d9b3c6d710"
      },
      "execution_count": 20,
      "outputs": [
        {
          "output_type": "execute_result",
          "data": {
            "text/plain": [
              "set"
            ]
          },
          "metadata": {},
          "execution_count": 20
        }
      ]
    },
    {
      "cell_type": "code",
      "source": [
        "tuple_items=(10,20,30,40,50,60,70,'xyz','abc','def')\n",
        "tuple_name=(50,70,'asd','opl')\n",
        "print(tuple_items)\n",
        "x=tuple_items+tuple_name\n",
        "print(x)"
      ],
      "metadata": {
        "colab": {
          "base_uri": "https://localhost:8080/"
        },
        "id": "jnLTaek4FrPB",
        "outputId": "fd17a8d0-2d54-4b38-bea0-bb8c8a58103b"
      },
      "execution_count": 21,
      "outputs": [
        {
          "output_type": "stream",
          "name": "stdout",
          "text": [
            "(10, 20, 30, 40, 50, 60, 70, 'xyz', 'abc', 'def')\n",
            "(10, 20, 30, 40, 50, 60, 70, 'xyz', 'abc', 'def', 50, 70, 'asd', 'opl')\n"
          ]
        }
      ]
    },
    {
      "cell_type": "code",
      "source": [
        "marks=[10,20,20,30,40]\n",
        "set1=set(marks)\n",
        "print(set1)"
      ],
      "metadata": {
        "colab": {
          "base_uri": "https://localhost:8080/"
        },
        "id": "wXG8U1ZvHVb0",
        "outputId": "7909241b-8ec8-4450-974f-85bb0d613b90"
      },
      "execution_count": 22,
      "outputs": [
        {
          "output_type": "stream",
          "name": "stdout",
          "text": [
            "{40, 10, 20, 30}\n"
          ]
        }
      ]
    },
    {
      "cell_type": "code",
      "source": [
        "student={'name':'jomy','number':12345}\n",
        "student['name']='Aaron'\n",
        "print(student)"
      ],
      "metadata": {
        "colab": {
          "base_uri": "https://localhost:8080/"
        },
        "id": "s8Lr-N9QHYbs",
        "outputId": "730767a5-334e-4b83-df49-f37e5fd3c1b0"
      },
      "execution_count": 23,
      "outputs": [
        {
          "output_type": "stream",
          "name": "stdout",
          "text": [
            "{'name': 'Aaron', 'number': 12345}\n"
          ]
        }
      ]
    },
    {
      "cell_type": "code",
      "source": [
        "def add(x,y):\n",
        "  return(x+y)\n",
        "add(2,3)"
      ],
      "metadata": {
        "colab": {
          "base_uri": "https://localhost:8080/"
        },
        "id": "N1gpCmcgKp_6",
        "outputId": "e9acdafd-dfe2-49d6-8784-b3404648d375"
      },
      "execution_count": 24,
      "outputs": [
        {
          "output_type": "execute_result",
          "data": {
            "text/plain": [
              "5"
            ]
          },
          "metadata": {},
          "execution_count": 24
        }
      ]
    },
    {
      "cell_type": "code",
      "source": [],
      "metadata": {
        "id": "MS6npQmfK0Dg"
      },
      "execution_count": null,
      "outputs": []
    }
  ]
}